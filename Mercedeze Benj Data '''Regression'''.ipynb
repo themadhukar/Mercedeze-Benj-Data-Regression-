{
 "cells": [
  {
   "cell_type": "code",
   "execution_count": 1,
   "metadata": {},
   "outputs": [],
   "source": [
    "import pandas as pd\n",
    "import numpy as np \n",
    "from  sklearn.model_selection import train_test_split\n",
    "from sklearn.metrics import r2_score,mean_squared_error\n",
    "from sklearn.linear_model import Lasso\n",
    "from sklearn.linear_model import SGDRegressor\n",
    "from sklearn.preprocessing import StandardScaler,MinMaxScaler\n",
    "from sklearn.naive_bayes import GaussianNB\n",
    "from sklearn.ensemble import GradientBoostingRegressor\n",
    "from sklearn.ensemble import RandomForestRegressor\n",
    "from sklearn.neighbors import KNeighborsRegressor\n",
    "from sklearn.model_selection import GridSearchCV,RandomizedSearchCV\n",
    "from scipy.stats import randint\n",
    "import warnings\n",
    "warnings.filterwarnings('ignore')"
   ]
  },
  {
   "cell_type": "code",
   "execution_count": 2,
   "metadata": {
    "scrolled": true
   },
   "outputs": [
    {
     "data": {
      "text/html": [
       "<div>\n",
       "<style scoped>\n",
       "    .dataframe tbody tr th:only-of-type {\n",
       "        vertical-align: middle;\n",
       "    }\n",
       "\n",
       "    .dataframe tbody tr th {\n",
       "        vertical-align: top;\n",
       "    }\n",
       "\n",
       "    .dataframe thead th {\n",
       "        text-align: right;\n",
       "    }\n",
       "</style>\n",
       "<table border=\"1\" class=\"dataframe\">\n",
       "  <thead>\n",
       "    <tr style=\"text-align: right;\">\n",
       "      <th></th>\n",
       "      <th>ID</th>\n",
       "      <th>y</th>\n",
       "      <th>X0</th>\n",
       "      <th>X1</th>\n",
       "      <th>X2</th>\n",
       "      <th>X3</th>\n",
       "      <th>X4</th>\n",
       "      <th>X5</th>\n",
       "      <th>X6</th>\n",
       "      <th>X8</th>\n",
       "      <th>...</th>\n",
       "      <th>X375</th>\n",
       "      <th>X376</th>\n",
       "      <th>X377</th>\n",
       "      <th>X378</th>\n",
       "      <th>X379</th>\n",
       "      <th>X380</th>\n",
       "      <th>X382</th>\n",
       "      <th>X383</th>\n",
       "      <th>X384</th>\n",
       "      <th>X385</th>\n",
       "    </tr>\n",
       "  </thead>\n",
       "  <tbody>\n",
       "    <tr>\n",
       "      <th>0</th>\n",
       "      <td>0</td>\n",
       "      <td>130.81</td>\n",
       "      <td>k</td>\n",
       "      <td>v</td>\n",
       "      <td>at</td>\n",
       "      <td>a</td>\n",
       "      <td>d</td>\n",
       "      <td>u</td>\n",
       "      <td>j</td>\n",
       "      <td>o</td>\n",
       "      <td>...</td>\n",
       "      <td>0</td>\n",
       "      <td>0</td>\n",
       "      <td>1</td>\n",
       "      <td>0</td>\n",
       "      <td>0</td>\n",
       "      <td>0</td>\n",
       "      <td>0</td>\n",
       "      <td>0</td>\n",
       "      <td>0</td>\n",
       "      <td>0</td>\n",
       "    </tr>\n",
       "    <tr>\n",
       "      <th>1</th>\n",
       "      <td>6</td>\n",
       "      <td>88.53</td>\n",
       "      <td>k</td>\n",
       "      <td>t</td>\n",
       "      <td>av</td>\n",
       "      <td>e</td>\n",
       "      <td>d</td>\n",
       "      <td>y</td>\n",
       "      <td>l</td>\n",
       "      <td>o</td>\n",
       "      <td>...</td>\n",
       "      <td>1</td>\n",
       "      <td>0</td>\n",
       "      <td>0</td>\n",
       "      <td>0</td>\n",
       "      <td>0</td>\n",
       "      <td>0</td>\n",
       "      <td>0</td>\n",
       "      <td>0</td>\n",
       "      <td>0</td>\n",
       "      <td>0</td>\n",
       "    </tr>\n",
       "    <tr>\n",
       "      <th>2</th>\n",
       "      <td>7</td>\n",
       "      <td>76.26</td>\n",
       "      <td>az</td>\n",
       "      <td>w</td>\n",
       "      <td>n</td>\n",
       "      <td>c</td>\n",
       "      <td>d</td>\n",
       "      <td>x</td>\n",
       "      <td>j</td>\n",
       "      <td>x</td>\n",
       "      <td>...</td>\n",
       "      <td>0</td>\n",
       "      <td>0</td>\n",
       "      <td>0</td>\n",
       "      <td>0</td>\n",
       "      <td>0</td>\n",
       "      <td>0</td>\n",
       "      <td>1</td>\n",
       "      <td>0</td>\n",
       "      <td>0</td>\n",
       "      <td>0</td>\n",
       "    </tr>\n",
       "    <tr>\n",
       "      <th>3</th>\n",
       "      <td>9</td>\n",
       "      <td>80.62</td>\n",
       "      <td>az</td>\n",
       "      <td>t</td>\n",
       "      <td>n</td>\n",
       "      <td>f</td>\n",
       "      <td>d</td>\n",
       "      <td>x</td>\n",
       "      <td>l</td>\n",
       "      <td>e</td>\n",
       "      <td>...</td>\n",
       "      <td>0</td>\n",
       "      <td>0</td>\n",
       "      <td>0</td>\n",
       "      <td>0</td>\n",
       "      <td>0</td>\n",
       "      <td>0</td>\n",
       "      <td>0</td>\n",
       "      <td>0</td>\n",
       "      <td>0</td>\n",
       "      <td>0</td>\n",
       "    </tr>\n",
       "    <tr>\n",
       "      <th>4</th>\n",
       "      <td>13</td>\n",
       "      <td>78.02</td>\n",
       "      <td>az</td>\n",
       "      <td>v</td>\n",
       "      <td>n</td>\n",
       "      <td>f</td>\n",
       "      <td>d</td>\n",
       "      <td>h</td>\n",
       "      <td>d</td>\n",
       "      <td>n</td>\n",
       "      <td>...</td>\n",
       "      <td>0</td>\n",
       "      <td>0</td>\n",
       "      <td>0</td>\n",
       "      <td>0</td>\n",
       "      <td>0</td>\n",
       "      <td>0</td>\n",
       "      <td>0</td>\n",
       "      <td>0</td>\n",
       "      <td>0</td>\n",
       "      <td>0</td>\n",
       "    </tr>\n",
       "  </tbody>\n",
       "</table>\n",
       "<p>5 rows × 378 columns</p>\n",
       "</div>"
      ],
      "text/plain": [
       "   ID       y  X0 X1  X2 X3 X4 X5 X6 X8  ...  X375  X376  X377  X378  X379  \\\n",
       "0   0  130.81   k  v  at  a  d  u  j  o  ...     0     0     1     0     0   \n",
       "1   6   88.53   k  t  av  e  d  y  l  o  ...     1     0     0     0     0   \n",
       "2   7   76.26  az  w   n  c  d  x  j  x  ...     0     0     0     0     0   \n",
       "3   9   80.62  az  t   n  f  d  x  l  e  ...     0     0     0     0     0   \n",
       "4  13   78.02  az  v   n  f  d  h  d  n  ...     0     0     0     0     0   \n",
       "\n",
       "   X380  X382  X383  X384  X385  \n",
       "0     0     0     0     0     0  \n",
       "1     0     0     0     0     0  \n",
       "2     0     1     0     0     0  \n",
       "3     0     0     0     0     0  \n",
       "4     0     0     0     0     0  \n",
       "\n",
       "[5 rows x 378 columns]"
      ]
     },
     "execution_count": 2,
     "metadata": {},
     "output_type": "execute_result"
    }
   ],
   "source": [
    "train_df=pd.read_csv('train1.csv')\n",
    "train_df.head()"
   ]
  },
  {
   "cell_type": "code",
   "execution_count": 3,
   "metadata": {},
   "outputs": [],
   "source": [
    "y=train_df['y']\n",
    "train_df.drop(['y'],axis=1,inplace=True)"
   ]
  },
  {
   "cell_type": "code",
   "execution_count": 4,
   "metadata": {},
   "outputs": [],
   "source": [
    "num_cols=[col for col in train_df.columns if train_df[col].dtype!='object']\n",
    "\n",
    "cat_cols=[col for col in train_df.columns if train_df[col].dtype=='object']"
   ]
  },
  {
   "cell_type": "code",
   "execution_count": 5,
   "metadata": {},
   "outputs": [],
   "source": [
    "X_train,X_test,y_train,y_test=train_test_split(train_df,y,test_size=0.2,random_state=0)"
   ]
  },
  {
   "cell_type": "markdown",
   "metadata": {},
   "source": [
    "# One Hot Encoding"
   ]
  },
  {
   "cell_type": "code",
   "execution_count": 6,
   "metadata": {
    "scrolled": true
   },
   "outputs": [],
   "source": [
    "ohe_train=pd.get_dummies(X_train[cat_cols])   \n",
    "ohe_test=pd.get_dummies(X_test[cat_cols])"
   ]
  },
  {
   "cell_type": "code",
   "execution_count": 7,
   "metadata": {},
   "outputs": [],
   "source": [
    "ohe_train_final,ohe_test_final=ohe_train.align(ohe_test,join='inner',axis=1,fill_value=0)"
   ]
  },
  {
   "cell_type": "code",
   "execution_count": 8,
   "metadata": {},
   "outputs": [],
   "source": [
    "X_train_final=pd.concat([X_train[num_cols],ohe_train_final],axis=1)\n",
    "X_test_final=pd.concat([X_test[num_cols],ohe_test_final],axis=1)"
   ]
  },
  {
   "cell_type": "markdown",
   "metadata": {},
   "source": [
    "# Linear Regression"
   ]
  },
  {
   "cell_type": "code",
   "execution_count": 9,
   "metadata": {},
   "outputs": [
    {
     "name": "stdout",
     "output_type": "stream",
     "text": [
      "Test Score 0.6530487294547794\n",
      "Test Score 0.4315183976445266\n"
     ]
    }
   ],
   "source": [
    "from sklearn.linear_model import LinearRegression\n",
    "lr=LinearRegression()\n",
    "lr.fit(X_train_final,y_train)\n",
    "pred=lr.predict(X_test_final)\n",
    "\n",
    "r2_score(y_test,pred)\n",
    "\n",
    "print('Test Score',lr.score(X_train_final,y_train))\n",
    "\n",
    "print('Test Score',lr.score(X_test_final,y_test))"
   ]
  },
  {
   "cell_type": "code",
   "execution_count": 10,
   "metadata": {},
   "outputs": [
    {
     "data": {
      "image/png": "[encoded data removed]",
      "text/plain": [
       "<Figure size 432x288 with 1 Axes>"
      ]
     },
     "metadata": {
      "needs_background": "light"
     },
     "output_type": "display_data"
    }
   ],
   "source": [
    "import matplotlib.pyplot as plt\n",
    "plt.scatter(y_test,pred)\n",
    "plt.show()"
   ]
  },
  {
   "cell_type": "code",
   "execution_count": 11,
   "metadata": {},
   "outputs": [
    {
     "data": {
      "text/html": [
       "<div>\n",
       "<style scoped>\n",
       "    .dataframe tbody tr th:only-of-type {\n",
       "        vertical-align: middle;\n",
       "    }\n",
       "\n",
       "    .dataframe tbody tr th {\n",
       "        vertical-align: top;\n",
       "    }\n",
       "\n",
       "    .dataframe thead th {\n",
       "        text-align: right;\n",
       "    }\n",
       "</style>\n",
       "<table border=\"1\" class=\"dataframe\">\n",
       "  <thead>\n",
       "    <tr style=\"text-align: right;\">\n",
       "      <th></th>\n",
       "      <th>Actual Value</th>\n",
       "      <th>Predicted Value</th>\n",
       "      <th>Difference</th>\n",
       "    </tr>\n",
       "  </thead>\n",
       "  <tbody>\n",
       "    <tr>\n",
       "      <th>3431</th>\n",
       "      <td>96.49</td>\n",
       "      <td>102.795505</td>\n",
       "      <td>-6.305505</td>\n",
       "    </tr>\n",
       "    <tr>\n",
       "      <th>2131</th>\n",
       "      <td>96.93</td>\n",
       "      <td>93.297485</td>\n",
       "      <td>3.632515</td>\n",
       "    </tr>\n",
       "    <tr>\n",
       "      <th>2680</th>\n",
       "      <td>114.22</td>\n",
       "      <td>118.652249</td>\n",
       "      <td>-4.432249</td>\n",
       "    </tr>\n",
       "    <tr>\n",
       "      <th>195</th>\n",
       "      <td>88.10</td>\n",
       "      <td>94.170624</td>\n",
       "      <td>-6.070624</td>\n",
       "    </tr>\n",
       "    <tr>\n",
       "      <th>3032</th>\n",
       "      <td>92.63</td>\n",
       "      <td>96.970456</td>\n",
       "      <td>-4.340456</td>\n",
       "    </tr>\n",
       "    <tr>\n",
       "      <th>2694</th>\n",
       "      <td>93.83</td>\n",
       "      <td>94.723166</td>\n",
       "      <td>-0.893166</td>\n",
       "    </tr>\n",
       "    <tr>\n",
       "      <th>1830</th>\n",
       "      <td>109.79</td>\n",
       "      <td>115.433550</td>\n",
       "      <td>-5.643550</td>\n",
       "    </tr>\n",
       "    <tr>\n",
       "      <th>304</th>\n",
       "      <td>89.03</td>\n",
       "      <td>92.266602</td>\n",
       "      <td>-3.236602</td>\n",
       "    </tr>\n",
       "    <tr>\n",
       "      <th>2891</th>\n",
       "      <td>109.38</td>\n",
       "      <td>116.252654</td>\n",
       "      <td>-6.872654</td>\n",
       "    </tr>\n",
       "    <tr>\n",
       "      <th>2498</th>\n",
       "      <td>103.90</td>\n",
       "      <td>109.382344</td>\n",
       "      <td>-5.482344</td>\n",
       "    </tr>\n",
       "    <tr>\n",
       "      <th>4006</th>\n",
       "      <td>93.59</td>\n",
       "      <td>91.860139</td>\n",
       "      <td>1.729861</td>\n",
       "    </tr>\n",
       "    <tr>\n",
       "      <th>2194</th>\n",
       "      <td>91.03</td>\n",
       "      <td>93.349337</td>\n",
       "      <td>-2.319337</td>\n",
       "    </tr>\n",
       "    <tr>\n",
       "      <th>4050</th>\n",
       "      <td>93.50</td>\n",
       "      <td>92.944470</td>\n",
       "      <td>0.555530</td>\n",
       "    </tr>\n",
       "    <tr>\n",
       "      <th>965</th>\n",
       "      <td>110.70</td>\n",
       "      <td>109.207500</td>\n",
       "      <td>1.492500</td>\n",
       "    </tr>\n",
       "    <tr>\n",
       "      <th>599</th>\n",
       "      <td>108.92</td>\n",
       "      <td>104.960031</td>\n",
       "      <td>3.959969</td>\n",
       "    </tr>\n",
       "    <tr>\n",
       "      <th>2623</th>\n",
       "      <td>75.88</td>\n",
       "      <td>82.250500</td>\n",
       "      <td>-6.370500</td>\n",
       "    </tr>\n",
       "    <tr>\n",
       "      <th>3811</th>\n",
       "      <td>89.34</td>\n",
       "      <td>94.941301</td>\n",
       "      <td>-5.601301</td>\n",
       "    </tr>\n",
       "    <tr>\n",
       "      <th>895</th>\n",
       "      <td>118.44</td>\n",
       "      <td>92.180890</td>\n",
       "      <td>26.259110</td>\n",
       "    </tr>\n",
       "    <tr>\n",
       "      <th>2865</th>\n",
       "      <td>114.88</td>\n",
       "      <td>112.992867</td>\n",
       "      <td>1.887133</td>\n",
       "    </tr>\n",
       "    <tr>\n",
       "      <th>1288</th>\n",
       "      <td>92.21</td>\n",
       "      <td>90.475583</td>\n",
       "      <td>1.734417</td>\n",
       "    </tr>\n",
       "  </tbody>\n",
       "</table>\n",
       "</div>"
      ],
      "text/plain": [
       "      Actual Value  Predicted Value  Difference\n",
       "3431         96.49       102.795505   -6.305505\n",
       "2131         96.93        93.297485    3.632515\n",
       "2680        114.22       118.652249   -4.432249\n",
       "195          88.10        94.170624   -6.070624\n",
       "3032         92.63        96.970456   -4.340456\n",
       "2694         93.83        94.723166   -0.893166\n",
       "1830        109.79       115.433550   -5.643550\n",
       "304          89.03        92.266602   -3.236602\n",
       "2891        109.38       116.252654   -6.872654\n",
       "2498        103.90       109.382344   -5.482344\n",
       "4006         93.59        91.860139    1.729861\n",
       "2194         91.03        93.349337   -2.319337\n",
       "4050         93.50        92.944470    0.555530\n",
       "965         110.70       109.207500    1.492500\n",
       "599         108.92       104.960031    3.959969\n",
       "2623         75.88        82.250500   -6.370500\n",
       "3811         89.34        94.941301   -5.601301\n",
       "895         118.44        92.180890   26.259110\n",
       "2865        114.88       112.992867    1.887133\n",
       "1288         92.21        90.475583    1.734417"
      ]
     },
     "execution_count": 11,
     "metadata": {},
     "output_type": "execute_result"
    }
   ],
   "source": [
    "pred_df=pd.DataFrame({'Actual Value':y_test,'Predicted Value':pred,'Difference':y_test-pred})\n",
    "pred_df[0:20]"
   ]
  },
  {
   "cell_type": "markdown",
   "metadata": {},
   "source": [
    "# Lasso"
   ]
  },
  {
   "cell_type": "code",
   "execution_count": 12,
   "metadata": {},
   "outputs": [
    {
     "name": "stdout",
     "output_type": "stream",
     "text": [
      "Test Score 0.15174578039665232\n",
      "Test Score 0.1240144392649164\n"
     ]
    }
   ],
   "source": [
    "lasso_reg=Lasso(alpha=3)\n",
    "lasso_reg.fit(X_train_final,y_train)\n",
    "pred=lasso_reg.predict(X_test_final)\n",
    "\n",
    "print('Test Score',lasso_reg.score(X_train_final,y_train))\n",
    "print('Test Score',lasso_reg.score(X_test_final,y_test))"
   ]
  },
  {
   "cell_type": "markdown",
   "metadata": {},
   "source": [
    "# Sochastic Gradient Discent Regresor"
   ]
  },
  {
   "cell_type": "code",
   "execution_count": 13,
   "metadata": {},
   "outputs": [
    {
     "name": "stdout",
     "output_type": "stream",
     "text": [
      "Test Score -6.995798343042605e+28\n",
      "Test Score -5.722217069781082e+28\n"
     ]
    }
   ],
   "source": [
    "sgd_reg=SGDRegressor(alpha=1)\n",
    "sgd_reg.fit(X_train_final,y_train)\n",
    "pred=sgd_reg.predict(X_test_final)\n",
    "\n",
    "print('Test Score',sgd_reg.score(X_train_final,y_train))\n",
    "print('Test Score',sgd_reg.score(X_test_final,y_test))\n",
    "\n",
    "#coeff=sgd_reg.coef_\n",
    "#coeff==0"
   ]
  },
  {
   "cell_type": "markdown",
   "metadata": {},
   "source": [
    "# Decision Tree Regressor"
   ]
  },
  {
   "cell_type": "code",
   "execution_count": 14,
   "metadata": {},
   "outputs": [
    {
     "name": "stdout",
     "output_type": "stream",
     "text": [
      "Test Score 1.0\n",
      "Test Score 0.05732850167192749\n"
     ]
    }
   ],
   "source": [
    "from sklearn.tree import DecisionTreeRegressor\n",
    "ds_reg=DecisionTreeRegressor()\n",
    "ds_reg.fit(X_train_final,y_train)\n",
    "pred=ds_reg.predict(X_test_final)\n",
    "#r2_score(y_test,pred)\n",
    "print('Test Score',ds_reg.score(X_train_final,y_train))\n",
    "print('Test Score',ds_reg.score(X_test_final,y_test))\n"
   ]
  },
  {
   "cell_type": "markdown",
   "metadata": {},
   "source": [
    "# Feature Scaling\n",
    "## Standard Scaler(Standardization ) And Min Max Scaler (Normalization )"
   ]
  },
  {
   "cell_type": "code",
   "execution_count": 17,
   "metadata": {},
   "outputs": [],
   "source": [
    "from sklearn.preprocessing import StandardScaler,MinMaxScaler\n",
    "\n",
    "scaler=StandardScaler()\n",
    "\n",
    "for col in num_cols:\n",
    "    X_train_final[col]=scaler.fit_transform(np.array(X_train_final[col]).reshape(-1,1))\n",
    "    X_test_final[col]=scaler.transform(np.array(X_test_final[col]).reshape(-1,1))"
   ]
  },
  {
   "cell_type": "markdown",
   "metadata": {},
   "source": [
    "# Principal Component Analysis"
   ]
  },
  {
   "cell_type": "code",
   "execution_count": 18,
   "metadata": {
    "scrolled": true
   },
   "outputs": [
    {
     "data": {
      "text/plain": [
       "array([6.87582377e-02, 5.77003214e-02, 4.53259505e-02, 3.43536894e-02,\n",
       "       3.25503170e-02, 3.18935550e-02, 2.89659377e-02, 2.19563847e-02,\n",
       "       2.00863141e-02, 1.82548386e-02, 1.67268155e-02, 1.57514031e-02,\n",
       "       1.52036661e-02, 1.48867086e-02, 1.36635931e-02, 1.32327092e-02,\n",
       "       1.25695678e-02, 1.18225136e-02, 1.13376317e-02, 1.10774843e-02,\n",
       "       1.01296622e-02, 9.83627844e-03, 9.66335255e-03, 9.18057911e-03,\n",
       "       8.53613705e-03, 8.18211354e-03, 7.81414017e-03, 7.81170835e-03,\n",
       "       7.36180095e-03, 7.14814274e-03, 6.86343720e-03, 6.78467658e-03,\n",
       "       6.65973655e-03, 6.53512784e-03, 6.34524696e-03, 6.12658108e-03,\n",
       "       5.96097748e-03, 5.90640241e-03, 5.84409569e-03, 5.71692823e-03,\n",
       "       5.57317993e-03, 5.48123884e-03, 5.26097986e-03, 5.23639930e-03,\n",
       "       5.11849581e-03, 5.04598580e-03, 4.94254345e-03, 4.71526261e-03,\n",
       "       4.59528972e-03, 4.53150664e-03, 4.45042682e-03, 4.36565462e-03,\n",
       "       4.29290915e-03, 4.21561697e-03, 4.14947109e-03, 4.12249589e-03,\n",
       "       4.04567412e-03, 4.00356951e-03, 3.91595074e-03, 3.88754163e-03,\n",
       "       3.77519481e-03, 3.71389143e-03, 3.65333912e-03, 3.63290828e-03,\n",
       "       3.56473660e-03, 3.55908137e-03, 3.48550200e-03, 3.42557628e-03,\n",
       "       3.37912584e-03, 3.32148990e-03, 3.28911958e-03, 3.25124698e-03,\n",
       "       3.22356415e-03, 3.20294511e-03, 3.14302429e-03, 3.13407557e-03,\n",
       "       3.12143839e-03, 3.08844746e-03, 3.04879148e-03, 3.02161439e-03,\n",
       "       2.98386882e-03, 2.95108813e-03, 2.93514838e-03, 2.91823457e-03,\n",
       "       2.90754877e-03, 2.88886264e-03, 2.83945355e-03, 2.83339189e-03,\n",
       "       2.80046011e-03, 2.78348250e-03, 2.76670569e-03, 2.74900407e-03,\n",
       "       2.71935399e-03, 2.70728754e-03, 2.68606840e-03, 2.67111885e-03,\n",
       "       2.64553565e-03, 2.62284466e-03, 2.57395161e-03, 2.56302604e-03,\n",
       "       2.55045770e-03, 2.51262107e-03, 2.47856527e-03, 2.45368067e-03,\n",
       "       2.43575440e-03, 2.39289129e-03, 2.38298400e-03, 2.37338971e-03,\n",
       "       2.33947069e-03, 2.31721573e-03, 2.27531135e-03, 2.23799077e-03,\n",
       "       2.18934511e-03, 2.16544737e-03, 2.13015763e-03, 2.11628744e-03,\n",
       "       2.09927292e-03, 2.06976661e-03, 2.06580677e-03, 2.01887468e-03,\n",
       "       2.00761885e-03, 1.97539426e-03, 1.94983227e-03, 1.92377581e-03,\n",
       "       1.88691181e-03, 1.85727621e-03, 1.82015402e-03, 1.79513510e-03,\n",
       "       1.77091753e-03, 1.75729465e-03, 1.74182228e-03, 1.69855819e-03,\n",
       "       1.67664236e-03, 1.63837351e-03, 1.62065807e-03, 1.60519307e-03,\n",
       "       1.58749582e-03, 1.55990628e-03, 1.53472534e-03, 1.49788534e-03,\n",
       "       1.46337449e-03, 1.43076851e-03, 1.42927587e-03, 1.40291781e-03,\n",
       "       1.37887350e-03, 1.32884015e-03, 1.30343466e-03, 1.25021860e-03,\n",
       "       1.22208995e-03, 1.15395225e-03, 1.14248372e-03, 1.11985057e-03,\n",
       "       1.08542171e-03, 1.07664823e-03, 1.07496586e-03, 1.02463368e-03,\n",
       "       9.98049482e-04, 9.80478823e-04, 9.48042899e-04, 9.21505457e-04,\n",
       "       8.90519751e-04, 8.84315020e-04, 8.54759214e-04, 8.53415661e-04,\n",
       "       8.34918516e-04, 8.18631192e-04, 7.98266153e-04, 7.84457233e-04,\n",
       "       7.48944575e-04, 7.22132246e-04, 7.11218557e-04, 6.89469055e-04,\n",
       "       6.77808929e-04, 6.62953337e-04, 6.50609731e-04, 6.21364444e-04,\n",
       "       6.11509950e-04, 5.81148117e-04, 5.65763823e-04, 5.50282904e-04,\n",
       "       5.39671644e-04, 5.29941528e-04, 5.15573253e-04, 5.12021869e-04,\n",
       "       5.10734104e-04, 4.83345074e-04, 4.78116992e-04, 4.69906967e-04,\n",
       "       4.51489982e-04, 4.37617754e-04, 4.29565966e-04, 4.23050153e-04,\n",
       "       4.04606785e-04, 4.02839379e-04, 3.88049306e-04, 3.71037318e-04,\n",
       "       3.67678388e-04, 3.58164818e-04, 3.42498068e-04, 3.30817939e-04,\n",
       "       3.25617720e-04, 3.19597822e-04, 3.11672646e-04, 3.04416222e-04,\n",
       "       2.99196919e-04, 2.94339503e-04, 2.86374007e-04, 2.71189945e-04,\n",
       "       2.67248133e-04, 2.52714030e-04, 2.44804582e-04, 2.41250741e-04,\n",
       "       2.36956300e-04, 2.27981432e-04, 2.18425201e-04, 2.13826866e-04,\n",
       "       2.05955794e-04, 1.93632157e-04, 1.89660460e-04, 1.83023052e-04,\n",
       "       1.74744515e-04, 1.65192676e-04, 1.64204937e-04, 1.60594642e-04,\n",
       "       1.56013510e-04, 1.52168286e-04, 1.49427248e-04, 1.47678231e-04,\n",
       "       1.47081026e-04, 1.42458892e-04, 1.38675418e-04, 1.36453965e-04,\n",
       "       1.35379698e-04, 1.34805019e-04, 1.33750987e-04, 1.31767196e-04,\n",
       "       1.29180799e-04, 1.27953454e-04, 1.26724240e-04, 1.25017160e-04,\n",
       "       1.24253957e-04, 1.22906569e-04, 1.21167901e-04, 1.19498366e-04,\n",
       "       1.18679513e-04, 1.17402814e-04, 1.15429142e-04, 1.13952474e-04,\n",
       "       1.13307140e-04, 1.12077486e-04, 1.10583674e-04, 1.09248622e-04,\n",
       "       1.06364097e-04, 1.02640129e-04, 1.01818301e-04, 9.95026519e-05,\n",
       "       9.84280208e-05, 9.76642834e-05, 9.30113489e-05, 9.20759768e-05,\n",
       "       9.20389520e-05, 8.95723308e-05, 8.72837995e-05, 8.63517703e-05,\n",
       "       8.46600761e-05, 8.07139262e-05, 8.01805257e-05, 7.92078604e-05,\n",
       "       7.69660184e-05, 7.50447236e-05, 7.45515882e-05, 7.23697021e-05,\n",
       "       7.20871409e-05, 6.98612495e-05, 6.88640053e-05, 6.77972228e-05,\n",
       "       6.72364247e-05, 6.60762852e-05, 6.44265004e-05, 6.28626093e-05,\n",
       "       6.20342282e-05, 6.07065798e-05, 5.89370758e-05, 5.81189087e-05,\n",
       "       5.67150579e-05, 5.56493295e-05, 5.41706055e-05, 5.29175198e-05,\n",
       "       5.18683029e-05, 5.11436541e-05, 4.97434557e-05, 4.88387794e-05,\n",
       "       4.79469352e-05, 4.55186532e-05, 4.28509647e-05, 4.21864316e-05,\n",
       "       4.18514910e-05, 4.11716150e-05, 3.80108568e-05, 3.77455437e-05,\n",
       "       3.62013016e-05, 3.34830321e-05, 3.15265437e-05, 3.11170625e-05,\n",
       "       2.91054500e-05, 2.89484556e-05, 2.75627435e-05, 2.65234183e-05,\n",
       "       2.59059455e-05, 2.49558510e-05, 2.34095112e-05, 2.30891917e-05,\n",
       "       2.14010918e-05, 2.02618955e-05, 1.89501747e-05, 1.82361389e-05,\n",
       "       1.63312350e-05, 1.56444271e-05, 1.52149177e-05, 1.50463576e-05,\n",
       "       1.46300416e-05, 1.39115581e-05, 1.36730190e-05, 1.33495392e-05,\n",
       "       1.27063224e-05, 1.25639088e-05, 1.23045471e-05, 1.15658733e-05,\n",
       "       1.11138457e-05, 1.09811631e-05, 1.07567336e-05, 1.04173801e-05,\n",
       "       9.99042988e-06, 9.74405186e-06, 9.22255735e-06, 8.10811584e-06,\n",
       "       8.02397377e-06, 7.16474582e-06, 6.96524028e-06, 6.73861668e-06,\n",
       "       6.02062140e-06, 5.85370136e-06, 5.62750242e-06, 4.87221025e-06,\n",
       "       4.83291230e-06, 4.30790503e-06, 4.09939615e-06, 4.03822226e-06,\n",
       "       3.38781427e-06, 3.36523270e-06, 2.76670170e-06, 2.43345542e-06,\n",
       "       1.98763259e-06, 1.89947465e-06, 1.78429762e-06, 1.75054404e-06,\n",
       "       1.45367590e-06, 1.36403213e-06, 1.28789607e-06, 1.05114620e-06,\n",
       "       7.11314649e-07, 5.99247193e-07, 4.77327537e-07, 4.17608970e-07,\n",
       "       3.38914807e-07, 3.08385507e-07, 1.25696683e-07, 5.15226577e-08,\n",
       "       4.91673425e-08, 3.40616031e-08, 1.54299369e-31, 1.13253947e-31,\n",
       "       9.13138588e-32, 6.06079736e-32, 5.76734764e-32, 4.14870212e-32,\n",
       "       3.19965815e-32, 2.75567776e-32, 2.66953354e-32, 2.32812578e-32,\n",
       "       2.19679695e-32, 1.92972374e-32, 1.75767543e-32, 1.65896422e-32,\n",
       "       1.59533670e-32, 1.43376679e-32, 1.41518342e-32, 1.38692632e-32,\n",
       "       1.37161423e-32, 1.16468250e-32, 1.10810950e-32, 1.03898932e-32,\n",
       "       9.23310748e-33, 8.50068202e-33, 8.27521234e-33, 7.67468411e-33,\n",
       "       6.74285739e-33, 6.31707124e-33, 6.24722233e-33, 6.07937878e-33,\n",
       "       5.55601091e-33, 5.48869268e-33, 5.33339656e-33, 5.22134808e-33,\n",
       "       5.13370759e-33, 4.84460232e-33, 4.68697657e-33, 4.64877098e-33,\n",
       "       4.46851288e-33, 4.28796812e-33, 3.92042485e-33, 3.78234842e-33,\n",
       "       3.74455467e-33, 3.35406918e-33, 3.32838127e-33, 3.21871952e-33,\n",
       "       2.86762972e-33, 2.81871347e-33, 2.69657545e-33, 2.64763237e-33,\n",
       "       2.56340249e-33, 2.35512518e-33, 2.23268312e-33, 2.20201468e-33,\n",
       "       2.16945316e-33, 2.05722211e-33, 1.92783423e-33, 1.85363341e-33,\n",
       "       1.78964812e-33, 1.65618985e-33, 1.58841321e-33, 1.47097829e-33,\n",
       "       1.30821087e-33, 1.22405520e-33, 1.15930183e-33, 1.15404607e-33,\n",
       "       1.11319684e-33, 1.02351683e-33, 9.66933806e-34, 8.69211655e-34,\n",
       "       7.91628964e-34, 7.66740624e-34, 6.98022322e-34, 6.31058426e-34,\n",
       "       5.85314045e-34, 5.22590561e-34, 4.73303742e-34, 3.93393850e-34,\n",
       "       3.38636332e-34, 3.24555851e-34, 2.98243000e-34, 2.76638021e-34,\n",
       "       2.76638021e-34, 2.76638021e-34, 2.76638021e-34, 2.76638021e-34,\n",
       "       2.76638021e-34, 2.76638021e-34, 2.76638021e-34, 2.76638021e-34,\n",
       "       2.76638021e-34, 2.76638021e-34, 2.76638021e-34, 2.76638021e-34,\n",
       "       2.76638021e-34, 2.76638021e-34, 2.76638021e-34, 2.76638021e-34,\n",
       "       2.76638021e-34, 2.76638021e-34, 2.76638021e-34, 2.76638021e-34,\n",
       "       2.76638021e-34, 2.76638021e-34, 2.76638021e-34, 2.76638021e-34,\n",
       "       2.76638021e-34, 2.76638021e-34, 2.76638021e-34, 2.76638021e-34,\n",
       "       2.76638021e-34, 2.76638021e-34, 2.76638021e-34, 2.76638021e-34,\n",
       "       2.76638021e-34, 2.76638021e-34, 2.76638021e-34, 2.76638021e-34,\n",
       "       2.76638021e-34, 2.76638021e-34, 2.76638021e-34, 2.76638021e-34,\n",
       "       2.76638021e-34, 2.76638021e-34, 2.76638021e-34, 2.76638021e-34,\n",
       "       2.76638021e-34, 2.76638021e-34, 2.76638021e-34, 2.76638021e-34,\n",
       "       2.76638021e-34, 2.76638021e-34, 2.76638021e-34, 2.76638021e-34,\n",
       "       2.76638021e-34, 2.76638021e-34, 2.76638021e-34, 2.76638021e-34,\n",
       "       2.76638021e-34, 2.76638021e-34, 2.76638021e-34, 2.76638021e-34,\n",
       "       2.76638021e-34, 2.76638021e-34, 2.76638021e-34, 2.76638021e-34,\n",
       "       2.76638021e-34, 2.76638021e-34, 2.76638021e-34, 2.76638021e-34,\n",
       "       2.76638021e-34, 2.76638021e-34, 2.76638021e-34, 2.72950894e-34,\n",
       "       2.40962459e-34, 2.15322075e-34, 1.55426237e-34, 1.24460708e-34,\n",
       "       1.11303930e-34, 1.05537486e-34, 9.13440239e-35, 6.19902018e-35,\n",
       "       5.53213072e-35, 3.48877206e-35, 1.79888900e-35, 7.32759874e-36,\n",
       "       7.22606895e-37])"
      ]
     },
     "execution_count": 18,
     "metadata": {},
     "output_type": "execute_result"
    },
    {
     "data": {
      "image/png": "[encoded data removed]",
      "text/plain": [
       "<Figure size 432x288 with 1 Axes>"
      ]
     },
     "metadata": {
      "needs_background": "light"
     },
     "output_type": "display_data"
    }
   ],
   "source": [
    "from sklearn.decomposition import PCA\n",
    "import matplotlib.pyplot as plt\n",
    "\n",
    "pca=PCA()\n",
    "X_train_pca_df=pd.DataFrame(pca.fit_transform(X_train_final))\n",
    "plt.plot(np.cumsum(pca.explained_variance_ratio_))\n",
    "pca.explained_variance_ratio_"
   ]
  },
  {
   "cell_type": "code",
   "execution_count": 19,
   "metadata": {},
   "outputs": [],
   "source": [
    "pca_1=PCA(n_components=50)\n",
    "X_train_pca_df=pd.DataFrame(pca_1.fit_transform(X_train_final),columns=list(range(0,50)))\n",
    "X_test_pca_df=pd.DataFrame(pca_1.transform(X_test_final))"
   ]
  },
  {
   "cell_type": "markdown",
   "metadata": {},
   "source": [
    "# variance_inflation_factor"
   ]
  },
  {
   "cell_type": "code",
   "execution_count": 20,
   "metadata": {
    "scrolled": false
   },
   "outputs": [
    {
     "data": {
      "text/html": [
       "<div>\n",
       "<style scoped>\n",
       "    .dataframe tbody tr th:only-of-type {\n",
       "        vertical-align: middle;\n",
       "    }\n",
       "\n",
       "    .dataframe tbody tr th {\n",
       "        vertical-align: top;\n",
       "    }\n",
       "\n",
       "    .dataframe thead th {\n",
       "        text-align: right;\n",
       "    }\n",
       "</style>\n",
       "<table border=\"1\" class=\"dataframe\">\n",
       "  <thead>\n",
       "    <tr style=\"text-align: right;\">\n",
       "      <th></th>\n",
       "      <th>VIF Factor_PCA</th>\n",
       "      <th>Column Name</th>\n",
       "    </tr>\n",
       "  </thead>\n",
       "  <tbody>\n",
       "    <tr>\n",
       "      <th>0</th>\n",
       "      <td>1.0</td>\n",
       "      <td>0</td>\n",
       "    </tr>\n",
       "    <tr>\n",
       "      <th>1</th>\n",
       "      <td>1.0</td>\n",
       "      <td>1</td>\n",
       "    </tr>\n",
       "    <tr>\n",
       "      <th>2</th>\n",
       "      <td>1.0</td>\n",
       "      <td>2</td>\n",
       "    </tr>\n",
       "    <tr>\n",
       "      <th>3</th>\n",
       "      <td>1.0</td>\n",
       "      <td>3</td>\n",
       "    </tr>\n",
       "    <tr>\n",
       "      <th>4</th>\n",
       "      <td>1.0</td>\n",
       "      <td>4</td>\n",
       "    </tr>\n",
       "    <tr>\n",
       "      <th>5</th>\n",
       "      <td>1.0</td>\n",
       "      <td>5</td>\n",
       "    </tr>\n",
       "    <tr>\n",
       "      <th>6</th>\n",
       "      <td>1.0</td>\n",
       "      <td>6</td>\n",
       "    </tr>\n",
       "    <tr>\n",
       "      <th>7</th>\n",
       "      <td>1.0</td>\n",
       "      <td>7</td>\n",
       "    </tr>\n",
       "    <tr>\n",
       "      <th>8</th>\n",
       "      <td>1.0</td>\n",
       "      <td>8</td>\n",
       "    </tr>\n",
       "    <tr>\n",
       "      <th>9</th>\n",
       "      <td>1.0</td>\n",
       "      <td>9</td>\n",
       "    </tr>\n",
       "    <tr>\n",
       "      <th>10</th>\n",
       "      <td>1.0</td>\n",
       "      <td>10</td>\n",
       "    </tr>\n",
       "    <tr>\n",
       "      <th>11</th>\n",
       "      <td>1.0</td>\n",
       "      <td>11</td>\n",
       "    </tr>\n",
       "    <tr>\n",
       "      <th>12</th>\n",
       "      <td>1.0</td>\n",
       "      <td>12</td>\n",
       "    </tr>\n",
       "    <tr>\n",
       "      <th>13</th>\n",
       "      <td>1.0</td>\n",
       "      <td>13</td>\n",
       "    </tr>\n",
       "    <tr>\n",
       "      <th>14</th>\n",
       "      <td>1.0</td>\n",
       "      <td>14</td>\n",
       "    </tr>\n",
       "    <tr>\n",
       "      <th>15</th>\n",
       "      <td>1.0</td>\n",
       "      <td>15</td>\n",
       "    </tr>\n",
       "    <tr>\n",
       "      <th>16</th>\n",
       "      <td>1.0</td>\n",
       "      <td>16</td>\n",
       "    </tr>\n",
       "    <tr>\n",
       "      <th>17</th>\n",
       "      <td>1.0</td>\n",
       "      <td>17</td>\n",
       "    </tr>\n",
       "    <tr>\n",
       "      <th>18</th>\n",
       "      <td>1.0</td>\n",
       "      <td>18</td>\n",
       "    </tr>\n",
       "    <tr>\n",
       "      <th>19</th>\n",
       "      <td>1.0</td>\n",
       "      <td>19</td>\n",
       "    </tr>\n",
       "    <tr>\n",
       "      <th>20</th>\n",
       "      <td>1.0</td>\n",
       "      <td>20</td>\n",
       "    </tr>\n",
       "    <tr>\n",
       "      <th>21</th>\n",
       "      <td>1.0</td>\n",
       "      <td>21</td>\n",
       "    </tr>\n",
       "    <tr>\n",
       "      <th>22</th>\n",
       "      <td>1.0</td>\n",
       "      <td>22</td>\n",
       "    </tr>\n",
       "    <tr>\n",
       "      <th>23</th>\n",
       "      <td>1.0</td>\n",
       "      <td>23</td>\n",
       "    </tr>\n",
       "    <tr>\n",
       "      <th>24</th>\n",
       "      <td>1.0</td>\n",
       "      <td>24</td>\n",
       "    </tr>\n",
       "    <tr>\n",
       "      <th>25</th>\n",
       "      <td>1.0</td>\n",
       "      <td>25</td>\n",
       "    </tr>\n",
       "    <tr>\n",
       "      <th>26</th>\n",
       "      <td>1.0</td>\n",
       "      <td>26</td>\n",
       "    </tr>\n",
       "    <tr>\n",
       "      <th>27</th>\n",
       "      <td>1.0</td>\n",
       "      <td>27</td>\n",
       "    </tr>\n",
       "    <tr>\n",
       "      <th>28</th>\n",
       "      <td>1.0</td>\n",
       "      <td>28</td>\n",
       "    </tr>\n",
       "    <tr>\n",
       "      <th>29</th>\n",
       "      <td>1.0</td>\n",
       "      <td>29</td>\n",
       "    </tr>\n",
       "    <tr>\n",
       "      <th>30</th>\n",
       "      <td>1.0</td>\n",
       "      <td>30</td>\n",
       "    </tr>\n",
       "    <tr>\n",
       "      <th>31</th>\n",
       "      <td>1.0</td>\n",
       "      <td>31</td>\n",
       "    </tr>\n",
       "    <tr>\n",
       "      <th>32</th>\n",
       "      <td>1.0</td>\n",
       "      <td>32</td>\n",
       "    </tr>\n",
       "    <tr>\n",
       "      <th>33</th>\n",
       "      <td>1.0</td>\n",
       "      <td>33</td>\n",
       "    </tr>\n",
       "    <tr>\n",
       "      <th>34</th>\n",
       "      <td>1.0</td>\n",
       "      <td>34</td>\n",
       "    </tr>\n",
       "    <tr>\n",
       "      <th>35</th>\n",
       "      <td>1.0</td>\n",
       "      <td>35</td>\n",
       "    </tr>\n",
       "    <tr>\n",
       "      <th>36</th>\n",
       "      <td>1.0</td>\n",
       "      <td>36</td>\n",
       "    </tr>\n",
       "    <tr>\n",
       "      <th>37</th>\n",
       "      <td>1.0</td>\n",
       "      <td>37</td>\n",
       "    </tr>\n",
       "    <tr>\n",
       "      <th>38</th>\n",
       "      <td>1.0</td>\n",
       "      <td>38</td>\n",
       "    </tr>\n",
       "    <tr>\n",
       "      <th>39</th>\n",
       "      <td>1.0</td>\n",
       "      <td>39</td>\n",
       "    </tr>\n",
       "    <tr>\n",
       "      <th>40</th>\n",
       "      <td>1.0</td>\n",
       "      <td>40</td>\n",
       "    </tr>\n",
       "    <tr>\n",
       "      <th>41</th>\n",
       "      <td>1.0</td>\n",
       "      <td>41</td>\n",
       "    </tr>\n",
       "    <tr>\n",
       "      <th>42</th>\n",
       "      <td>1.0</td>\n",
       "      <td>42</td>\n",
       "    </tr>\n",
       "    <tr>\n",
       "      <th>43</th>\n",
       "      <td>1.0</td>\n",
       "      <td>43</td>\n",
       "    </tr>\n",
       "    <tr>\n",
       "      <th>44</th>\n",
       "      <td>1.0</td>\n",
       "      <td>44</td>\n",
       "    </tr>\n",
       "    <tr>\n",
       "      <th>45</th>\n",
       "      <td>1.0</td>\n",
       "      <td>45</td>\n",
       "    </tr>\n",
       "    <tr>\n",
       "      <th>46</th>\n",
       "      <td>1.0</td>\n",
       "      <td>46</td>\n",
       "    </tr>\n",
       "    <tr>\n",
       "      <th>47</th>\n",
       "      <td>1.0</td>\n",
       "      <td>47</td>\n",
       "    </tr>\n",
       "    <tr>\n",
       "      <th>48</th>\n",
       "      <td>1.0</td>\n",
       "      <td>48</td>\n",
       "    </tr>\n",
       "    <tr>\n",
       "      <th>49</th>\n",
       "      <td>1.0</td>\n",
       "      <td>49</td>\n",
       "    </tr>\n",
       "  </tbody>\n",
       "</table>\n",
       "</div>"
      ],
      "text/plain": [
       "    VIF Factor_PCA  Column Name\n",
       "0              1.0            0\n",
       "1              1.0            1\n",
       "2              1.0            2\n",
       "3              1.0            3\n",
       "4              1.0            4\n",
       "5              1.0            5\n",
       "6              1.0            6\n",
       "7              1.0            7\n",
       "8              1.0            8\n",
       "9              1.0            9\n",
       "10             1.0           10\n",
       "11             1.0           11\n",
       "12             1.0           12\n",
       "13             1.0           13\n",
       "14             1.0           14\n",
       "15             1.0           15\n",
       "16             1.0           16\n",
       "17             1.0           17\n",
       "18             1.0           18\n",
       "19             1.0           19\n",
       "20             1.0           20\n",
       "21             1.0           21\n",
       "22             1.0           22\n",
       "23             1.0           23\n",
       "24             1.0           24\n",
       "25             1.0           25\n",
       "26             1.0           26\n",
       "27             1.0           27\n",
       "28             1.0           28\n",
       "29             1.0           29\n",
       "30             1.0           30\n",
       "31             1.0           31\n",
       "32             1.0           32\n",
       "33             1.0           33\n",
       "34             1.0           34\n",
       "35             1.0           35\n",
       "36             1.0           36\n",
       "37             1.0           37\n",
       "38             1.0           38\n",
       "39             1.0           39\n",
       "40             1.0           40\n",
       "41             1.0           41\n",
       "42             1.0           42\n",
       "43             1.0           43\n",
       "44             1.0           44\n",
       "45             1.0           45\n",
       "46             1.0           46\n",
       "47             1.0           47\n",
       "48             1.0           48\n",
       "49             1.0           49"
      ]
     },
     "execution_count": 20,
     "metadata": {},
     "output_type": "execute_result"
    }
   ],
   "source": [
    "# proof that PCA results in zero or no Multicollinearity\n",
    "from statsmodels.stats.outliers_influence import variance_inflation_factor\n",
    "vif_pca = pd.DataFrame()\n",
    "vif_pca[\"VIF Factor_PCA\"] = [variance_inflation_factor(X_train_pca_df.values, i) for i in range(X_train_pca_df.shape[1])]\n",
    "vif_pca[\"Column Name\"] = X_train_pca_df.columns\n",
    "vif_pca"
   ]
  },
  {
   "cell_type": "markdown",
   "metadata": {},
   "source": [
    "# Random Forest Regressor"
   ]
  },
  {
   "cell_type": "code",
   "execution_count": 21,
   "metadata": {},
   "outputs": [
    {
     "name": "stdout",
     "output_type": "stream",
     "text": [
      "Train Score 0.9282384217989678\n",
      "Test Score 0.35606548608691513\n"
     ]
    }
   ],
   "source": [
    "from sklearn.ensemble import RandomForestRegressor\n",
    "rf=RandomForestRegressor(random_state=40)\n",
    "rf.fit(X_train_pca_df,y_train)\n",
    "pred=rf.predict(X_test_pca_df)\n",
    "print('Train Score',rf.score(X_train_pca_df,y_train))\n",
    "print('Test Score',rf.score(X_test_pca_df,y_test))"
   ]
  },
  {
   "cell_type": "code",
   "execution_count": 22,
   "metadata": {},
   "outputs": [],
   "source": [
    "from sklearn.ensemble import RandomForestRegressor\n",
    "\n",
    "n_estimators=list(range(20,200,20))\n",
    "accuracy=[]\n",
    "\n",
    "for num in n_estimators:\n",
    "    rf=RandomForestRegressor(n_estimators=num)\n",
    "    rf.fit(X_train_pca_df,y_train)\n",
    "    accuracy.append(rf.score(X_train_pca_df,y_train))   "
   ]
  },
  {
   "cell_type": "code",
   "execution_count": 23,
   "metadata": {},
   "outputs": [
    {
     "data": {
      "text/plain": [
       "[<matplotlib.lines.Line2D at 0x1f167108c40>]"
      ]
     },
     "execution_count": 23,
     "metadata": {},
     "output_type": "execute_result"
    },
    {
     "data": {
      "image/png": "[encoded data removed]",
      "text/plain": [
       "<Figure size 432x288 with 1 Axes>"
      ]
     },
     "metadata": {
      "needs_background": "light"
     },
     "output_type": "display_data"
    }
   ],
   "source": [
    "import matplotlib.pyplot as plt\n",
    "\n",
    "plt.plot(n_estimators,accuracy)\n"
   ]
  },
  {
   "cell_type": "markdown",
   "metadata": {},
   "source": [
    "# Ada Boost Regressor"
   ]
  },
  {
   "cell_type": "code",
   "execution_count": 24,
   "metadata": {},
   "outputs": [
    {
     "data": {
      "text/plain": [
       "[<matplotlib.lines.Line2D at 0x1f166fe1130>]"
      ]
     },
     "execution_count": 24,
     "metadata": {},
     "output_type": "execute_result"
    },
    {
     "data": {
      "image/png": "[encoded data removed]",
      "text/plain": [
       "<Figure size 432x288 with 1 Axes>"
      ]
     },
     "metadata": {
      "needs_background": "light"
     },
     "output_type": "display_data"
    }
   ],
   "source": [
    "from sklearn.ensemble import AdaBoostRegressor\n",
    "import numpy as np\n",
    "\n",
    "learning_rate=[0.2,0.4,0.6,0.8]\n",
    "n_estimators=np.arange(10,200,20)\n",
    "accuracy=[]\n",
    "\n",
    "for num in learning_rate:\n",
    "    abc=AdaBoostRegressor(learning_rate=num)\n",
    "    abc.fit(X_train_pca_df,y_train)\n",
    "    accuracy.append(abc.score(X_train_pca_df,y_train))   \n",
    "    \n",
    "plt.plot(learning_rate,accuracy)    "
   ]
  },
  {
   "cell_type": "code",
   "execution_count": 25,
   "metadata": {
    "scrolled": false
   },
   "outputs": [
    {
     "name": "stdout",
     "output_type": "stream",
     "text": [
      "Fitting 5 folds for each of 10 candidates, totalling 50 fits\n",
      "[CV 1/5] END max_depth=10, max_features=auto, min_samples_split=9, n_estimators=60; total time=   8.6s\n",
      "[CV 2/5] END max_depth=10, max_features=auto, min_samples_split=9, n_estimators=60; total time=   8.5s\n",
      "[CV 3/5] END max_depth=10, max_features=auto, min_samples_split=9, n_estimators=60; total time=   8.5s\n",
      "[CV 4/5] END max_depth=10, max_features=auto, min_samples_split=9, n_estimators=60; total time=   8.7s\n",
      "[CV 5/5] END max_depth=10, max_features=auto, min_samples_split=9, n_estimators=60; total time=   8.4s\n",
      "[CV 1/5] END max_depth=8, max_features=auto, min_samples_split=9, n_estimators=100; total time=  12.0s\n",
      "[CV 2/5] END max_depth=8, max_features=auto, min_samples_split=9, n_estimators=100; total time=  12.0s\n",
      "[CV 3/5] END max_depth=8, max_features=auto, min_samples_split=9, n_estimators=100; total time=  12.4s\n",
      "[CV 4/5] END max_depth=8, max_features=auto, min_samples_split=9, n_estimators=100; total time=  13.0s\n",
      "[CV 5/5] END max_depth=8, max_features=auto, min_samples_split=9, n_estimators=100; total time=  13.2s\n",
      "[CV 1/5] END max_depth=9, max_features=auto, min_samples_split=7, n_estimators=100; total time=  15.0s\n",
      "[CV 2/5] END max_depth=9, max_features=auto, min_samples_split=7, n_estimators=100; total time=  14.6s\n",
      "[CV 3/5] END max_depth=9, max_features=auto, min_samples_split=7, n_estimators=100; total time=  14.6s\n",
      "[CV 4/5] END max_depth=9, max_features=auto, min_samples_split=7, n_estimators=100; total time=  14.8s\n",
      "[CV 5/5] END max_depth=9, max_features=auto, min_samples_split=7, n_estimators=100; total time=  14.5s\n",
      "[CV 1/5] END max_depth=9, max_features=sqrt, min_samples_split=9, n_estimators=100; total time=   2.5s\n",
      "[CV 2/5] END max_depth=9, max_features=sqrt, min_samples_split=9, n_estimators=100; total time=   2.3s\n",
      "[CV 3/5] END max_depth=9, max_features=sqrt, min_samples_split=9, n_estimators=100; total time=   2.3s\n",
      "[CV 4/5] END max_depth=9, max_features=sqrt, min_samples_split=9, n_estimators=100; total time=   2.3s\n",
      "[CV 5/5] END max_depth=9, max_features=sqrt, min_samples_split=9, n_estimators=100; total time=   2.3s\n",
      "[CV 1/5] END max_depth=7, max_features=log2, min_samples_split=7, n_estimators=100; total time=   1.5s\n",
      "[CV 2/5] END max_depth=7, max_features=log2, min_samples_split=7, n_estimators=100; total time=   1.5s\n",
      "[CV 3/5] END max_depth=7, max_features=log2, min_samples_split=7, n_estimators=100; total time=   1.5s\n",
      "[CV 4/5] END max_depth=7, max_features=log2, min_samples_split=7, n_estimators=100; total time=   1.5s\n",
      "[CV 5/5] END max_depth=7, max_features=log2, min_samples_split=7, n_estimators=100; total time=   1.5s\n",
      "[CV 1/5] END max_depth=7, max_features=auto, min_samples_split=7, n_estimators=50; total time=   6.0s\n",
      "[CV 2/5] END max_depth=7, max_features=auto, min_samples_split=7, n_estimators=50; total time=   6.0s\n",
      "[CV 3/5] END max_depth=7, max_features=auto, min_samples_split=7, n_estimators=50; total time=   6.0s\n",
      "[CV 4/5] END max_depth=7, max_features=auto, min_samples_split=7, n_estimators=50; total time=   6.0s\n",
      "[CV 5/5] END max_depth=7, max_features=auto, min_samples_split=7, n_estimators=50; total time=   6.0s\n",
      "[CV 1/5] END max_depth=10, max_features=auto, min_samples_split=4, n_estimators=70; total time=  11.2s\n",
      "[CV 2/5] END max_depth=10, max_features=auto, min_samples_split=4, n_estimators=70; total time=  11.6s\n",
      "[CV 3/5] END max_depth=10, max_features=auto, min_samples_split=4, n_estimators=70; total time=  11.1s\n",
      "[CV 4/5] END max_depth=10, max_features=auto, min_samples_split=4, n_estimators=70; total time=  13.8s\n",
      "[CV 5/5] END max_depth=10, max_features=auto, min_samples_split=4, n_estimators=70; total time=  14.7s\n",
      "[CV 1/5] END max_depth=7, max_features=auto, min_samples_split=4, n_estimators=100; total time=  13.0s\n",
      "[CV 2/5] END max_depth=7, max_features=auto, min_samples_split=4, n_estimators=100; total time=  12.4s\n",
      "[CV 3/5] END max_depth=7, max_features=auto, min_samples_split=4, n_estimators=100; total time=  12.2s\n",
      "[CV 4/5] END max_depth=7, max_features=auto, min_samples_split=4, n_estimators=100; total time=  13.9s\n",
      "[CV 5/5] END max_depth=7, max_features=auto, min_samples_split=4, n_estimators=100; total time=  11.9s\n",
      "[CV 1/5] END max_depth=8, max_features=sqrt, min_samples_split=4, n_estimators=60; total time=   1.3s\n",
      "[CV 2/5] END max_depth=8, max_features=sqrt, min_samples_split=4, n_estimators=60; total time=   1.3s\n",
      "[CV 3/5] END max_depth=8, max_features=sqrt, min_samples_split=4, n_estimators=60; total time=   1.2s\n",
      "[CV 4/5] END max_depth=8, max_features=sqrt, min_samples_split=4, n_estimators=60; total time=   1.2s\n",
      "[CV 5/5] END max_depth=8, max_features=sqrt, min_samples_split=4, n_estimators=60; total time=   1.2s\n",
      "[CV 1/5] END max_depth=10, max_features=auto, min_samples_split=4, n_estimators=100; total time=  16.8s\n",
      "[CV 2/5] END max_depth=10, max_features=auto, min_samples_split=4, n_estimators=100; total time=  16.1s\n",
      "[CV 3/5] END max_depth=10, max_features=auto, min_samples_split=4, n_estimators=100; total time=  15.9s\n",
      "[CV 4/5] END max_depth=10, max_features=auto, min_samples_split=4, n_estimators=100; total time=  16.1s\n",
      "[CV 5/5] END max_depth=10, max_features=auto, min_samples_split=4, n_estimators=100; total time=  15.8s\n"
     ]
    },
    {
     "data": {
      "text/plain": [
       "RandomizedSearchCV(cv=5, estimator=RandomForestRegressor(random_state=42),\n",
       "                   param_distributions={'max_depth': [7, 8, 9, 10],\n",
       "                                        'max_features': ['auto', 'sqrt',\n",
       "                                                         'log2'],\n",
       "                                        'min_samples_split': [4, 7, 9],\n",
       "                                        'n_estimators': [50, 60, 70, 100]},\n",
       "                   verbose=5)"
      ]
     },
     "execution_count": 25,
     "metadata": {},
     "output_type": "execute_result"
    }
   ],
   "source": [
    "from sklearn.ensemble import RandomForestRegressor\n",
    "from sklearn.model_selection import GridSearchCV,RandomizedSearchCV\n",
    "\n",
    "rf=RandomForestRegressor(random_state=42)\n",
    "\n",
    "param_dict={\n",
    "            'n_estimators':[50,60,70,100],\n",
    "            'min_samples_split':[4,7,9],\n",
    "            'max_depth':[7,8,9,10],\n",
    "            'max_features':['auto','sqrt','log2']\n",
    "           }\n",
    "rscv=RandomizedSearchCV(rf,param_dict,cv=5,verbose=5)\n",
    "rscv.fit(X_train_pca_df,y_train)\n"
   ]
  },
  {
   "cell_type": "code",
   "execution_count": 26,
   "metadata": {
    "scrolled": true
   },
   "outputs": [
    {
     "name": "stdout",
     "output_type": "stream",
     "text": [
      "{'n_estimators': 100, 'min_samples_split': 7, 'max_features': 'auto', 'max_depth': 9}\n",
      "RandomForestRegressor(max_depth=9, min_samples_split=7, random_state=42)\n",
      "0.5123246365846271\n"
     ]
    }
   ],
   "source": [
    "print(rscv.best_params_)\n",
    "print(rscv.best_estimator_)\n",
    "print(rscv.best_score_)"
   ]
  },
  {
   "cell_type": "markdown",
   "metadata": {},
   "source": [
    "# 5. Gradiant Boost Regressor"
   ]
  },
  {
   "cell_type": "code",
   "execution_count": 27,
   "metadata": {},
   "outputs": [
    {
     "name": "stdout",
     "output_type": "stream",
     "text": [
      "Train Score 0.6834099206712669\n",
      "Test Score 0.4025918175927131\n"
     ]
    }
   ],
   "source": [
    "gbc=GradientBoostingRegressor()\n",
    "gbc.fit(X_train_pca_df,y_train)\n",
    "pred=gbc.predict(X_test_pca_df)\n",
    "print('Train Score',gbc.score(X_train_pca_df,y_train))\n",
    "print('Test Score',gbc.score(X_test_pca_df,y_test))"
   ]
  },
  {
   "cell_type": "markdown",
   "metadata": {},
   "source": [
    "# 6. XGBoost Regressor\n"
   ]
  },
  {
   "cell_type": "code",
   "execution_count": 28,
   "metadata": {},
   "outputs": [
    {
     "name": "stdout",
     "output_type": "stream",
     "text": [
      "Train Score 0.9620059425913957\n",
      "Test Score 0.3268294615440588\n"
     ]
    }
   ],
   "source": [
    "from xgboost import XGBRegressor\n",
    "\n",
    "xgb=XGBRegressor()\n",
    "xgb.fit(X_train_pca_df,y_train)\n",
    "pred=xgb.predict(X_test_pca_df)\n",
    "print('Train Score',xgb.score(X_train_pca_df,y_train))\n",
    "print('Test Score',xgb.score(X_test_pca_df,y_test))"
   ]
  },
  {
   "cell_type": "markdown",
   "metadata": {},
   "source": [
    "# Support Vector Machine\n",
    "## Support Vector Regression\n"
   ]
  },
  {
   "cell_type": "code",
   "execution_count": 30,
   "metadata": {},
   "outputs": [
    {
     "name": "stdout",
     "output_type": "stream",
     "text": [
      "Train score 0.5036089010158096\n",
      "Test Score 0.39055705195673274\n"
     ]
    }
   ],
   "source": [
    "from sklearn.svm import SVR\n",
    "svr=SVR()\n",
    "svr.fit(X_train_pca_df,y_train)\n",
    "pred=svr.predict(X_test_pca_df)\n",
    "print('Train score',svr.score(X_train_pca_df,y_train))\n",
    "print('Test Score',svr.score(X_test_pca_df,y_test))"
   ]
  },
  {
   "cell_type": "code",
   "execution_count": 31,
   "metadata": {},
   "outputs": [
    {
     "name": "stdout",
     "output_type": "stream",
     "text": [
      "Fitting 5 folds for each of 10 candidates, totalling 50 fits\n",
      "[CV 1/5] END ..................C=1000, gamma=0.1, kernel=rbf; total time=   3.1s\n",
      "[CV 2/5] END ..................C=1000, gamma=0.1, kernel=rbf; total time=   3.1s\n",
      "[CV 3/5] END ..................C=1000, gamma=0.1, kernel=rbf; total time=   3.6s\n",
      "[CV 4/5] END ..................C=1000, gamma=0.1, kernel=rbf; total time=   4.0s\n",
      "[CV 5/5] END ..................C=1000, gamma=0.1, kernel=rbf; total time=   4.0s\n",
      "[CV 1/5] END .....................C=100, gamma=1, kernel=rbf; total time=   3.4s\n",
      "[CV 2/5] END .....................C=100, gamma=1, kernel=rbf; total time=   2.8s\n",
      "[CV 3/5] END .....................C=100, gamma=1, kernel=rbf; total time=   3.3s\n",
      "[CV 4/5] END .....................C=100, gamma=1, kernel=rbf; total time=   2.7s\n",
      "[CV 5/5] END .....................C=100, gamma=1, kernel=rbf; total time=   2.8s\n",
      "[CV 1/5] END ...................C=10, gamma=0.01, kernel=rbf; total time=   2.1s\n",
      "[CV 2/5] END ...................C=10, gamma=0.01, kernel=rbf; total time=   2.1s\n",
      "[CV 3/5] END ...................C=10, gamma=0.01, kernel=rbf; total time=   2.2s\n",
      "[CV 4/5] END ...................C=10, gamma=0.01, kernel=rbf; total time=   2.2s\n",
      "[CV 5/5] END ...................C=10, gamma=0.01, kernel=rbf; total time=   2.1s\n",
      "[CV 1/5] END ....................C=10, gamma=0.1, kernel=rbf; total time=   2.2s\n",
      "[CV 2/5] END ....................C=10, gamma=0.1, kernel=rbf; total time=   2.2s\n",
      "[CV 3/5] END ....................C=10, gamma=0.1, kernel=rbf; total time=   2.1s\n",
      "[CV 4/5] END ....................C=10, gamma=0.1, kernel=rbf; total time=   2.2s\n",
      "[CV 5/5] END ....................C=10, gamma=0.1, kernel=rbf; total time=   2.4s\n",
      "[CV 1/5] END ................C=0.1, gamma=0.0001, kernel=rbf; total time=   2.0s\n",
      "[CV 2/5] END ................C=0.1, gamma=0.0001, kernel=rbf; total time=   2.0s\n",
      "[CV 3/5] END ................C=0.1, gamma=0.0001, kernel=rbf; total time=   2.0s\n",
      "[CV 4/5] END ................C=0.1, gamma=0.0001, kernel=rbf; total time=   2.0s\n",
      "[CV 5/5] END ................C=0.1, gamma=0.0001, kernel=rbf; total time=   2.0s\n",
      "[CV 1/5] END .................C=0.1, gamma=0.001, kernel=rbf; total time=   2.0s\n",
      "[CV 2/5] END .................C=0.1, gamma=0.001, kernel=rbf; total time=   2.0s\n",
      "[CV 3/5] END .................C=0.1, gamma=0.001, kernel=rbf; total time=   2.0s\n",
      "[CV 4/5] END .................C=0.1, gamma=0.001, kernel=rbf; total time=   2.0s\n",
      "[CV 5/5] END .................C=0.1, gamma=0.001, kernel=rbf; total time=   2.1s\n",
      "[CV 1/5] END ......................C=10, gamma=1, kernel=rbf; total time=   2.4s\n",
      "[CV 2/5] END ......................C=10, gamma=1, kernel=rbf; total time=   2.3s\n",
      "[CV 3/5] END ......................C=10, gamma=1, kernel=rbf; total time=   3.2s\n",
      "[CV 4/5] END ......................C=10, gamma=1, kernel=rbf; total time=   2.3s\n",
      "[CV 5/5] END ......................C=10, gamma=1, kernel=rbf; total time=   2.3s\n",
      "[CV 1/5] END ...................C=0.1, gamma=0.1, kernel=rbf; total time=   2.3s\n",
      "[CV 2/5] END ...................C=0.1, gamma=0.1, kernel=rbf; total time=   2.5s\n",
      "[CV 3/5] END ...................C=0.1, gamma=0.1, kernel=rbf; total time=   2.2s\n",
      "[CV 4/5] END ...................C=0.1, gamma=0.1, kernel=rbf; total time=   2.0s\n",
      "[CV 5/5] END ...................C=0.1, gamma=0.1, kernel=rbf; total time=   2.0s\n",
      "[CV 1/5] END ...............C=1000, gamma=0.0001, kernel=rbf; total time=   2.5s\n",
      "[CV 2/5] END ...............C=1000, gamma=0.0001, kernel=rbf; total time=   2.4s\n",
      "[CV 3/5] END ...............C=1000, gamma=0.0001, kernel=rbf; total time=   2.9s\n",
      "[CV 4/5] END ...............C=1000, gamma=0.0001, kernel=rbf; total time=   2.8s\n",
      "[CV 5/5] END ...............C=1000, gamma=0.0001, kernel=rbf; total time=   2.5s\n",
      "[CV 1/5] END ................C=1000, gamma=0.001, kernel=rbf; total time=   5.7s\n",
      "[CV 2/5] END ................C=1000, gamma=0.001, kernel=rbf; total time=   4.8s\n",
      "[CV 3/5] END ................C=1000, gamma=0.001, kernel=rbf; total time=   5.1s\n",
      "[CV 4/5] END ................C=1000, gamma=0.001, kernel=rbf; total time=   4.9s\n",
      "[CV 5/5] END ................C=1000, gamma=0.001, kernel=rbf; total time=   5.4s\n"
     ]
    },
    {
     "data": {
      "text/plain": [
       "RandomizedSearchCV(estimator=SVR(),\n",
       "                   param_distributions={'C': [0.1, 1, 10, 100, 1000],\n",
       "                                        'gamma': [1, 0.1, 0.01, 0.001, 0.0001],\n",
       "                                        'kernel': ['rbf']},\n",
       "                   verbose=3)"
      ]
     },
     "execution_count": 31,
     "metadata": {},
     "output_type": "execute_result"
    }
   ],
   "source": [
    "param_dict={\n",
    "    'C':[0.1,1,10,100,1000],\n",
    "    'gamma':[1,0.1,0.01,0.001,0.0001],\n",
    "    'kernel':['rbf']\n",
    "}\n",
    "\n",
    "rscv=RandomizedSearchCV(svr,param_dict,refit=True,verbose=3)\n",
    "rscv.fit(X_train_pca_df,y_train)"
   ]
  },
  {
   "cell_type": "code",
   "execution_count": 32,
   "metadata": {},
   "outputs": [
    {
     "name": "stdout",
     "output_type": "stream",
     "text": [
      "{'kernel': 'rbf', 'gamma': 0.0001, 'C': 1000}\n",
      "SVR(C=1000, gamma=0.0001)\n",
      "0.5276903205187651\n"
     ]
    }
   ],
   "source": [
    "print(rscv.best_params_)\n",
    "print(rscv.best_estimator_)\n",
    "print(rscv.best_score_)"
   ]
  },
  {
   "cell_type": "markdown",
   "metadata": {},
   "source": [
    "# 9. K Nearest Neighbors Regresssor (KNN)\n"
   ]
  },
  {
   "cell_type": "code",
   "execution_count": 33,
   "metadata": {},
   "outputs": [
    {
     "name": "stdout",
     "output_type": "stream",
     "text": [
      "Train Score 0.6296223819974847\n",
      "Test Score 0.3458437594998901\n"
     ]
    }
   ],
   "source": [
    "knn=KNeighborsRegressor()\n",
    "knn.fit(X_train_pca_df,y_train)\n",
    "pred=knn.predict(X_test_pca_df)\n",
    "print('Train Score',knn.score(X_train_pca_df,y_train))\n",
    "print('Test Score',knn.score(X_test_pca_df,y_test))\n"
   ]
  },
  {
   "cell_type": "markdown",
   "metadata": {},
   "source": [
    "# Unsupervised Learning\n",
    "## K-Mean Clustering"
   ]
  },
  {
   "cell_type": "code",
   "execution_count": 34,
   "metadata": {},
   "outputs": [
    {
     "data": {
      "text/plain": [
       "Text(0.5, 1.0, 'Elbow Curve')"
      ]
     },
     "execution_count": 34,
     "metadata": {},
     "output_type": "execute_result"
    },
    {
     "data": {
      "image/png": "[encoded data removed]",
      "text/plain": [
       "<Figure size 432x288 with 1 Axes>"
      ]
     },
     "metadata": {
      "needs_background": "light"
     },
     "output_type": "display_data"
    }
   ],
   "source": [
    "from sklearn.cluster import KMeans\n",
    "kmns=KMeans()\n",
    "kmns.fit(X_train_pca_df)\n",
    "\n",
    "#finding the optimul number of clusters\n",
    "\n",
    "num_clusters=range(2,11)\n",
    "\n",
    "wss=[]  # Within Sum Of Square(WSS)\n",
    "\n",
    "for n in num_clusters:\n",
    "    kmns=KMeans(n_clusters=n)\n",
    "    kmns.fit(X_train_pca_df)\n",
    "    wss.append(kmns.inertia_)\n",
    "    \n",
    "plt.plot(num_clusters,wss)\n",
    "plt.title('Elbow Curve')"
   ]
  },
  {
   "cell_type": "code",
   "execution_count": null,
   "metadata": {
    "scrolled": false
   },
   "outputs": [],
   "source": [
    "#import statsmodels.api as sm\n",
    "#from statsmodels.stats.outliers_influence import variance_inflation_factor\n",
    "\n",
    "# For each X, calculate VIF and save in dataframe\n",
    "#vif = pd.DataFrame()\n",
    "#vif[\"VIF Factor\"] = [variance_inflation_factor(X_train_final.values, i) for i in range(X_train_final.shape[1])]\n",
    "#vif[\"features\"] = X_train_final.columnsh\n",
    "#vif"
   ]
  }
 ],
 "metadata": {
  "kernelspec": {
   "display_name": "Python 3",
   "language": "python",
   "name": "python3"
  },
  "language_info": {
   "codemirror_mode": {
    "name": "ipython",
    "version": 3
   },
   "file_extension": ".py",
   "mimetype": "text/x-python",
   "name": "python",
   "nbconvert_exporter": "python",
   "pygments_lexer": "ipython3",
   "version": "3.8.3"
  }
 },
 "nbformat": 4,
 "nbformat_minor": 4
}
